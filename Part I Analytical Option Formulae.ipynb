{
 "cells": [
  {
   "cell_type": "markdown",
   "id": "61c50051",
   "metadata": {},
   "source": [
    "## QF620 Project Part I"
   ]
  },
  {
   "cell_type": "markdown",
   "id": "5d0280e7",
   "metadata": {},
   "source": [
    "### Consider the following European options:\n",
    ">- Vanilla call/put\n",
    ">- Digital cash-or-nothing call/put\n",
    ">- Digital asset-or-nothing call/put\n",
    "\n",
    "### Derive and implement the following models to value these options in Python:\n",
    ">1. Black-Scholes model\n",
    ">2. Bachelier model\n",
    ">3. Black76 model\n",
    ">4. Displaced-diffusion model\n"
   ]
  },
  {
   "cell_type": "code",
   "execution_count": 1,
   "id": "4d282d7b",
   "metadata": {},
   "outputs": [],
   "source": [
    "import pandas as pd\n",
    "import numpy as np \n",
    "from scipy.stats import norm"
   ]
  },
  {
   "cell_type": "markdown",
   "id": "a5f1efff",
   "metadata": {},
   "source": [
    "## Black-Scholes Model"
   ]
  },
  {
   "cell_type": "markdown",
   "id": "b6a200d2",
   "metadata": {},
   "source": [
    ">## Vanilla Call Option"
   ]
  },
  {
   "cell_type": "markdown",
   "id": "395b70ee",
   "metadata": {},
   "source": [
    "The formula for a call option is given by\n",
    "\n",
    "\\begin{equation}\n",
    "\\begin{split}\n",
    "C(S,K,r,\\sigma,T) &= S_0 \\Phi(d_1) - K e^{-rT} \\Phi(d_2)\\\\\n",
    "\\end{split}            \n",
    "\\end{equation}\n",
    "\n",
    "The formula can be implemented in Python as follows:\n",
    "\n",
    "where:\n",
    "\\begin{equation}\n",
    "\\begin{split}\n",
    "    d_1 &= \\frac{\\log \\frac{S_0}{K} + \\left(r+\\frac{\\sigma^2}{2}\\right)T}{\\sigma\\sqrt{T}}, \\\\\n",
    "    d_2 &= d_1 - \\sigma\\sqrt{T}\n",
    "\\end{split}\n",
    "\\end{equation}"
   ]
  },
  {
   "cell_type": "code",
   "execution_count": 2,
   "id": "72dd09f9",
   "metadata": {},
   "outputs": [],
   "source": [
    "def BlackScholesCall(S, K, r, sigma, T):\n",
    "    d1 = (np.log(S/K)+(r+sigma**2/2)*T) / (sigma*np.sqrt(T))\n",
    "    d2 = d1 - sigma*np.sqrt(T)\n",
    "    return S*norm.cdf(d1) - K*np.exp(-r*T)*norm.cdf(d2)"
   ]
  },
  {
   "cell_type": "markdown",
   "id": "a586973e",
   "metadata": {},
   "source": [
    ">## Vanilla Put Option"
   ]
  },
  {
   "cell_type": "markdown",
   "id": "c376355c",
   "metadata": {},
   "source": [
    "Similarly, the formula for a put option is given by\n",
    "\n",
    "\\begin{equation}\n",
    "P(S,K,r,\\sigma,T) = K e^{-rT} \\Phi(-d_2) - S_0 \\Phi(-d_1)\n",
    "\\end{equation}\n",
    "\n",
    "The formula can be implemented in Python as follows:"
   ]
  },
  {
   "cell_type": "code",
   "execution_count": 3,
   "id": "7334d610",
   "metadata": {},
   "outputs": [],
   "source": [
    "def BlackScholesPut(S, K, r, sigma, T):\n",
    "    d1 = (np.log(S/K)+(r+sigma**2/2)*T) / (sigma*np.sqrt(T))\n",
    "    d2 = d1 - sigma*np.sqrt(T)\n",
    "    return K*np.exp(-r*T)*norm.cdf(-d2) - S*norm.cdf(-d1)"
   ]
  },
  {
   "cell_type": "markdown",
   "id": "847177d8",
   "metadata": {},
   "source": [
    ">## Digital Cash-Or-Nothing Call Option"
   ]
  },
  {
   "cell_type": "markdown",
   "id": "c7f3032e",
   "metadata": {},
   "source": [
    "\\begin{equation}\n",
    "C = e^{-rT} \\Phi(d_2) \n",
    "\\end{equation}"
   ]
  },
  {
   "cell_type": "code",
   "execution_count": 4,
   "id": "2ed2aeec",
   "metadata": {},
   "outputs": [],
   "source": [
    "def BlackScholesDCashCall(S, K, r, sigma ,T):\n",
    "    d1 = (np.log(S/K)+(r+sigma**2/2)*T) / (sigma*np.sqrt(T))\n",
    "    d2 = d1 - sigma*np.sqrt(T)\n",
    "    return np.exp(-r*T)*norm.cdf(d2)"
   ]
  },
  {
   "cell_type": "markdown",
   "id": "cf6d2f37",
   "metadata": {},
   "source": [
    ">## Digital Cash-Or-Nothing Put Option"
   ]
  },
  {
   "cell_type": "markdown",
   "id": "a257438d",
   "metadata": {},
   "source": [
    "\\begin{equation}\n",
    "P = e^{-rT} \\Phi(-d_2) \n",
    "\\end{equation}"
   ]
  },
  {
   "cell_type": "code",
   "execution_count": 5,
   "id": "af6360ae",
   "metadata": {},
   "outputs": [],
   "source": [
    "def BlackScholesDCashPut(S, K, r, sigma ,T):\n",
    "    d1 = (np.log(S/K)+(r+sigma**2/2)*T) / (sigma*np.sqrt(T))\n",
    "    d2 = d1 - sigma*np.sqrt(T)\n",
    "    return np.exp(-r*T)*norm.cdf(-d2)"
   ]
  },
  {
   "cell_type": "markdown",
   "id": "316e5f6d",
   "metadata": {},
   "source": [
    ">## Digital Asset-Or-Nothing Call Option"
   ]
  },
  {
   "cell_type": "markdown",
   "id": "57887403",
   "metadata": {},
   "source": [
    "\\begin{equation}\n",
    "C = S_0\\Phi(d_1) \n",
    "\\end{equation}"
   ]
  },
  {
   "cell_type": "code",
   "execution_count": 6,
   "id": "646d23a0",
   "metadata": {},
   "outputs": [],
   "source": [
    "def BlackScholesDAssetCall(S, K, r, sigma ,T):\n",
    "    d1 = (np.log(S/K)+(r+sigma**2/2)*T) / (sigma*np.sqrt(T))\n",
    "    d2 = d1 - sigma*np.sqrt(T)\n",
    "    return S*norm.cdf(d1)"
   ]
  },
  {
   "cell_type": "markdown",
   "id": "ef4993a2",
   "metadata": {},
   "source": [
    ">## Digital Asset-Or-Nothing Put Option"
   ]
  },
  {
   "cell_type": "markdown",
   "id": "2b70555a",
   "metadata": {},
   "source": [
    "\\begin{equation}\n",
    "P = S_0\\Phi(-d_1) \n",
    "\\end{equation}"
   ]
  },
  {
   "cell_type": "code",
   "execution_count": 7,
   "id": "b877ee0c",
   "metadata": {},
   "outputs": [],
   "source": [
    "def BlackScholesDAssetPut(S, K, r, sigma ,T):\n",
    "    d1 = (np.log(S/K)+(r+sigma**2/2)*T) / (sigma*np.sqrt(T))\n",
    "    d2 = d1 - sigma*np.sqrt(T)\n",
    "    return S*norm.cdf(-d1)"
   ]
  },
  {
   "cell_type": "markdown",
   "id": "a98233ee",
   "metadata": {},
   "source": [
    "## Bachelier Model"
   ]
  },
  {
   "cell_type": "markdown",
   "id": "f9086b8a",
   "metadata": {},
   "source": [
    ">## Vanilla Call Option"
   ]
  },
  {
   "cell_type": "markdown",
   "id": "757f3f0e",
   "metadata": {},
   "source": [
    "The price (`C`) of a European-style call option in the Bachelier model can be calculated as follows:\n",
    "\n",
    "$$\n",
    "C = e^{-rT} \\left((S-K)\\Phi(d_1) + \\sigma S \\sqrt{T} \\phi(d_1)\\right)\n",
    "$$\n",
    "\n",
    "$$\n",
    "d_1 = \\frac{S - K}{\\sigma \\cdot {S} \\cdot \\sqrt{T}}\n",
    "$$\n",
    "\n",
    "and $$\\Phi$$ represents the cumulative distribution function (CDF) of the standard normal distribution, and $$\\phi$$ represents the probability density function (PDF) of the standard normal distribution.\n",
    "\n",
    "Keep in mind that in this model, the underlying asset price follows a normal distribution instead of the more common log-normal distribution in the Black-Scholes model.\n"
   ]
  },
  {
   "cell_type": "code",
   "execution_count": 8,
   "id": "dde31842",
   "metadata": {},
   "outputs": [],
   "source": [
    "def BachelierCall(S, K, r, sigma, T):\n",
    "    d1 = (S-K) / (sigma*S*np.sqrt(T))\n",
    "    return np.exp(-r*T)*((S-K)*norm.cdf(d1) + sigma*S*np.sqrt(T)*norm.pdf(d1))"
   ]
  },
  {
   "cell_type": "markdown",
   "id": "af22cfab",
   "metadata": {},
   "source": [
    ">## Vanilla Put Option"
   ]
  },
  {
   "cell_type": "markdown",
   "id": "7ad4ec20",
   "metadata": {},
   "source": [
    "$$\n",
    "P = e^{-rT} \\left((K-S)\\Phi(-d_1) + \\sigma S \\sqrt{T} \\phi(-d_1)\\right)\n",
    "$$"
   ]
  },
  {
   "cell_type": "code",
   "execution_count": 9,
   "id": "d42200d8",
   "metadata": {},
   "outputs": [],
   "source": [
    "def BachelierPut(S, K, r, sigma, T):\n",
    "    d1 = (S-K) / (sigma*S*np.sqrt(T))\n",
    "    return np.exp(-r*T)*((K-S)*norm.cdf(-d1) + sigma*S*np.sqrt(T)*norm.pdf(-d1)) "
   ]
  },
  {
   "cell_type": "markdown",
   "id": "800198cf",
   "metadata": {},
   "source": [
    ">## Digital Cash-Or-Nothing Call Option"
   ]
  },
  {
   "cell_type": "markdown",
   "id": "fb958644",
   "metadata": {},
   "source": [
    "$$\n",
    "C = e^{-rT} \\Phi(d_1)\n",
    "$$"
   ]
  },
  {
   "cell_type": "code",
   "execution_count": 10,
   "id": "481a763e",
   "metadata": {},
   "outputs": [],
   "source": [
    "def BachelierDCashCall(S, K, r, sigma, T):\n",
    "    d1 = (S-K) / (sigma*S*np.sqrt(T))\n",
    "    return np.exp(-r*T)*norm.cdf(d1)"
   ]
  },
  {
   "cell_type": "markdown",
   "id": "757c4a2f",
   "metadata": {},
   "source": [
    ">## Digital Cash-Or-Nothing Put Option"
   ]
  },
  {
   "cell_type": "markdown",
   "id": "b016c2b5",
   "metadata": {},
   "source": [
    "$$\n",
    "P = e^{-rT} \\Phi(-d_1)\n",
    "$$"
   ]
  },
  {
   "cell_type": "code",
   "execution_count": 11,
   "id": "467ff02f",
   "metadata": {},
   "outputs": [],
   "source": [
    "def BachelierDCashPut(S, K, r, sigma, T):\n",
    "    d1 = (S-K) / (sigma*S*np.sqrt(T))\n",
    "    return np.exp(-r*T)*norm.cdf(-d1)"
   ]
  },
  {
   "cell_type": "markdown",
   "id": "4ca1cad4",
   "metadata": {},
   "source": [
    ">## Digital Asset-Or-Nothing Call Option"
   ]
  },
  {
   "cell_type": "markdown",
   "id": "c5e4f888",
   "metadata": {},
   "source": [
    "$$\n",
    "C = e^{-rT} \\left(S \\Phi(d_1) + \\sigma S \\sqrt{T} \\phi(d_1)\\right)\n",
    "$$"
   ]
  },
  {
   "cell_type": "code",
   "execution_count": 12,
   "id": "a8942686",
   "metadata": {},
   "outputs": [],
   "source": [
    "def BachelierDAssetCall(S, K, r, sigma, T):\n",
    "    d1 = (S-K) / (sigma*S*np.sqrt(T))\n",
    "    return np.exp(-r*T)*(S*norm.cdf(d1) + sigma*S*np.sqrt(T)*norm.pdf(d1))"
   ]
  },
  {
   "cell_type": "markdown",
   "id": "b2f94223",
   "metadata": {},
   "source": [
    ">## Digital Asset-Or-Nothing Put Option"
   ]
  },
  {
   "cell_type": "markdown",
   "id": "f1365ffa",
   "metadata": {},
   "source": [
    "$$\n",
    "P = e^{-rT} \\left(S \\Phi(-d_1) + \\sigma S \\sqrt{T} \\phi(-d_1)\\right)\n",
    "$$"
   ]
  },
  {
   "cell_type": "code",
   "execution_count": 13,
   "id": "ef638ea6",
   "metadata": {},
   "outputs": [],
   "source": [
    "def BachelierDAssetPut(S, K, r, sigma, T):\n",
    "    d1 = (S-K) / (sigma*S*np.sqrt(T))\n",
    "    return np.exp(-r*T)*(S*norm.cdf(-d1) - sigma*S*np.sqrt(T)*norm.pdf(-d1))"
   ]
  },
  {
   "cell_type": "markdown",
   "id": "76bd51f1",
   "metadata": {},
   "source": [
    "## Black 76 Model"
   ]
  },
  {
   "cell_type": "markdown",
   "id": "020bd755",
   "metadata": {},
   "source": [
    ">## Vanilla Call Option"
   ]
  },
  {
   "cell_type": "markdown",
   "id": "b716fd9b",
   "metadata": {},
   "source": [
    "The price (`C`) of a European-style call option in the Black-76 model with the forward price can be calculated as follows:\n",
    "\n",
    "$$\n",
    "C = e^{-rT} \\left( F \\Phi(d_1) - K \\Phi(d_2) \\right)\n",
    "$$\n",
    "\n",
    "$$\n",
    "F = e^{r(T)} S\n",
    "$$\n",
    "\n",
    "\n",
    "`d₁` is calculated as: \n",
    "$$\n",
    "d_1 = \\frac{\\log\\left(\\frac{F}{K}\\right) + \\frac{\\sigma^2}{2}T}{\\sigma\\sqrt{T}}\n",
    "$$\n",
    "\n",
    "and\n",
    "\n",
    "`d₂` is calculated as: \n",
    "$$\n",
    "d_2 = d_1 - \\sigma \\sqrt{T}\n",
    "$$\n",
    "\n",
    "This model is widely used for pricing options on futures contracts.\n"
   ]
  },
  {
   "cell_type": "code",
   "execution_count": 14,
   "id": "e2eefb0a",
   "metadata": {},
   "outputs": [],
   "source": [
    "def Black76Call(S, K, r, sigma, T):\n",
    "    F = np.exp(r*T)*S\n",
    "    d1 = (np.log(F/K)+(sigma**2/2)*T) / (sigma*np.sqrt(T))\n",
    "    d2 = d1 - sigma*np.sqrt(T)\n",
    "    return np.exp(-r*T)*(F*norm.cdf(d1) - K*norm.cdf(d2))"
   ]
  },
  {
   "cell_type": "markdown",
   "id": "853df57c",
   "metadata": {},
   "source": [
    ">## Vanilla Put Option"
   ]
  },
  {
   "cell_type": "markdown",
   "id": "aab638a8",
   "metadata": {},
   "source": [
    "$$\n",
    "P = e^{-rT} \\left( K \\Phi(-d_2) - F \\Phi(-d_1) \\right)\n",
    "$$"
   ]
  },
  {
   "cell_type": "code",
   "execution_count": 15,
   "id": "5f415b52",
   "metadata": {},
   "outputs": [],
   "source": [
    "def Black76Put(S, K, r, sigma, T):\n",
    "    F= np.exp(r*T)*S\n",
    "    d1 = (np.log(F/K)+(sigma**2/2)*T) / (sigma*np.sqrt(T))\n",
    "    d2 = d1 - sigma*np.sqrt(T)\n",
    "    return np.exp(-r*T)*(K*norm.cdf(-d2) - F*norm.cdf(-d1))"
   ]
  },
  {
   "cell_type": "markdown",
   "id": "e344c06f",
   "metadata": {},
   "source": [
    ">## Digital Cash-Or-Nothing Call Option"
   ]
  },
  {
   "cell_type": "markdown",
   "id": "d19a5936",
   "metadata": {},
   "source": [
    "The formula for a Digital Cash-Or-Nothing Call Option in the Black-76 model is given by:\n",
    "\n",
    "$$\n",
    "C = e^{-rT} \\Phi(d_2)\n",
    "$$"
   ]
  },
  {
   "cell_type": "code",
   "execution_count": 16,
   "id": "6b5eacd7",
   "metadata": {},
   "outputs": [],
   "source": [
    "def Black76DCashCall(S, K, r, sigma, T):\n",
    "    F = np.exp(r*T)*S\n",
    "    d1 = (np.log(F/K)+(sigma**2/2)*T) / (sigma*np.sqrt(T))\n",
    "    d2 = d1 - sigma*np.sqrt(T)\n",
    "    return np.exp(-r*T)*norm.cdf(d2)"
   ]
  },
  {
   "cell_type": "markdown",
   "id": "33f2fd21",
   "metadata": {},
   "source": [
    ">## Digital Cash-Or-Nothing Put Option"
   ]
  },
  {
   "cell_type": "markdown",
   "id": "ab240663",
   "metadata": {},
   "source": [
    "The formula for a Digital Cash-Or-Nothing Put Option in the Black-76 model is given by:\n",
    "\n",
    "$$\n",
    "P = e^{-rT} \\Phi(-d_2)\n",
    "$$"
   ]
  },
  {
   "cell_type": "code",
   "execution_count": 17,
   "id": "0c6355bc",
   "metadata": {},
   "outputs": [],
   "source": [
    "def Black76DCashPut(S, K, r, sigma, T):\n",
    "    F = np.exp(r*T)*S\n",
    "    d1 = (np.log(F/K)+(sigma**2/2)*T) / (sigma*np.sqrt(T))\n",
    "    d2 = d1 - sigma*np.sqrt(T)\n",
    "    return np.exp(-r*T)*norm.cdf(-d2)"
   ]
  },
  {
   "cell_type": "markdown",
   "id": "75d5fc3c",
   "metadata": {},
   "source": [
    ">## Digital Asset-Or-Nothing Call Option"
   ]
  },
  {
   "cell_type": "markdown",
   "id": "ee399ec9",
   "metadata": {},
   "source": [
    "The formula for a Digital Asset-Or-Nothing Call Option in the Black-76 model is given by:\n",
    "\n",
    "$$\n",
    "C = F e^{-rT} \\Phi(d_1)\n",
    "$$"
   ]
  },
  {
   "cell_type": "code",
   "execution_count": 18,
   "id": "02f3e926",
   "metadata": {},
   "outputs": [],
   "source": [
    "def Black76DAssetCall(S, K, r, sigma, T):\n",
    "    F = np.exp(r*T)*S\n",
    "    d1 = (np.log(F/K)+(sigma**2/2)*T) / (sigma*np.sqrt(T))\n",
    "    d2 = d1 - sigma*np.sqrt(T)\n",
    "    return F*np.exp(-r*T)*norm.cdf(d1)"
   ]
  },
  {
   "cell_type": "markdown",
   "id": "14635459",
   "metadata": {},
   "source": [
    ">## Digital Asset-Or-Nothing Put Option"
   ]
  },
  {
   "cell_type": "markdown",
   "id": "0b0c8d54",
   "metadata": {},
   "source": [
    "The formula for a Digital Asset-Or-Nothing Put Option in the Black-76 model is given by:\n",
    "\n",
    "$$\n",
    "P = F e^{-rT} \\Phi(-d_1)\n",
    "$$"
   ]
  },
  {
   "cell_type": "code",
   "execution_count": 19,
   "id": "264df9b5",
   "metadata": {},
   "outputs": [],
   "source": [
    "def Black76DAssetPut(S, K, r, sigma, T):\n",
    "    F = np.exp(r*T)*S\n",
    "    d1 = (np.log(F/K)+(sigma**2/2)*T) / (sigma*np.sqrt(T))\n",
    "    d2 = d1 - sigma*np.sqrt(T)\n",
    "    return F*np.exp(-r*T)*norm.cdf(-d1)"
   ]
  },
  {
   "cell_type": "markdown",
   "id": "aaa13a56",
   "metadata": {},
   "source": [
    "## Displaced Diffusion Model"
   ]
  },
  {
   "cell_type": "markdown",
   "id": "2be532ed",
   "metadata": {},
   "source": [
    ">## Vanilla Call Option"
   ]
  },
  {
   "cell_type": "markdown",
   "id": "1e55b39f",
   "metadata": {},
   "source": [
    "$$\n",
    "C = e^{-rT} \\left[\\frac{F_0}{\\beta}\\Phi\\left(d_1\\right) - \\left(K + \\frac{1-\\beta}{\\beta}F_0\\right)\\Phi\\left(d_2\\right)\\right]\n",
    "$$\n",
    "\n",
    "where\n",
    "\n",
    "$$\n",
    "d_1 = \\frac{\\log\\left(\\frac{F_0}{F_0+\\beta(K-F_0)}\\right) + \\frac{\\left(\\sigma\\beta\\right)^2}{2}T}{\\beta\\sigma\\sqrt{T}}\n",
    "$$\n",
    "\n",
    "and\n",
    "\n",
    "$$\n",
    "d_2 = d_1 - \\beta  \\sigma \\sqrt{T}\n",
    "$$\n"
   ]
  },
  {
   "cell_type": "code",
   "execution_count": 20,
   "id": "586cf697",
   "metadata": {},
   "outputs": [],
   "source": [
    "def DisplacedDiffusionCall(S, K, r, sigma, T, beta):\n",
    "    F = np.exp(r*T)*S\n",
    "    d1 = (np.log(F/(F+beta*(K-F)))+(beta*sigma)**2/2*T) / (beta*sigma*np.sqrt(T))\n",
    "    d2 = d1 - beta*sigma*np.sqrt(T)\n",
    "    return np.exp(-r*T)*(F/beta*norm.cdf(d1) - ((1-beta)/beta*F + K)*norm.cdf(d2))"
   ]
  },
  {
   "cell_type": "markdown",
   "id": "725d70aa",
   "metadata": {},
   "source": [
    ">## Vanilla Put Option"
   ]
  },
  {
   "cell_type": "markdown",
   "id": "35949a87",
   "metadata": {},
   "source": [
    "$$\n",
    "P = e^{-rT} \\left[\\left(K + \\frac{1-\\beta}{\\beta}F_0\\right)\\Phi\\left(-d_2\\right) - \\frac{F_0}{\\beta}\\Phi\\left(-d_1\\right)\\right]\n",
    "$$\n"
   ]
  },
  {
   "cell_type": "code",
   "execution_count": 21,
   "id": "9194226b",
   "metadata": {},
   "outputs": [],
   "source": [
    "def DisplacedDiffusionPut(S, K, r, sigma, T, beta):\n",
    "    F = np.exp(r*T)*S\n",
    "    d1 = (np.log(F/(F+beta*(K-F)))+(beta*sigma)**2/2*T) / (beta*sigma*np.sqrt(T))\n",
    "    d2 = d1 - beta*sigma*np.sqrt(T)\n",
    "    return np.exp(-r*T)*(((1-beta)/beta*F + K)*norm.cdf(-d2) - F/beta*norm.cdf(-d1))"
   ]
  },
  {
   "cell_type": "markdown",
   "id": "fd80b046",
   "metadata": {},
   "source": [
    ">## Digital Cash-Or-Nothing Call Option"
   ]
  },
  {
   "cell_type": "markdown",
   "id": "fc8ff25e",
   "metadata": {},
   "source": [
    "$$\n",
    "C = e^{-rT} \\Phi(d_2)\n",
    "$$"
   ]
  },
  {
   "cell_type": "code",
   "execution_count": 22,
   "id": "9e00fec8",
   "metadata": {},
   "outputs": [],
   "source": [
    "def DisplacedDiffusionDCashCall(S, K, r, sigma, T, beta):\n",
    "    F = np.exp(r*T)*S\n",
    "    d1 = (np.log(F/(F+beta*(K-F)))+(beta*sigma)**2/2*T) / (beta*sigma*np.sqrt(T))\n",
    "    d2 = d1 - beta*sigma*np.sqrt(T)\n",
    "    return np.exp(-r*T)*norm.cdf(d2)"
   ]
  },
  {
   "cell_type": "markdown",
   "id": "1c265af8",
   "metadata": {},
   "source": [
    ">## Digital Cash-Or-Nothing Put Option"
   ]
  },
  {
   "cell_type": "markdown",
   "id": "fa69dd7e",
   "metadata": {},
   "source": [
    "$$\n",
    "P = e^{-rT} \\Phi(-d_2)\n",
    "$$"
   ]
  },
  {
   "cell_type": "code",
   "execution_count": 23,
   "id": "e6ab223c",
   "metadata": {},
   "outputs": [],
   "source": [
    "def DisplacedDiffusionDCashPut(S, K, r, sigma, T, beta):\n",
    "    F = np.exp(r*T)*S\n",
    "    d1 = (np.log(F/(F+beta*(K-F)))+(beta*sigma)**2/2*T) / (beta*sigma*np.sqrt(T))\n",
    "    d2 = d1 - beta*sigma*np.sqrt(T)\n",
    "    return np.exp(-r*T)*norm.cdf(-d2)"
   ]
  },
  {
   "cell_type": "markdown",
   "id": "1233ce1e",
   "metadata": {},
   "source": [
    ">## Digital Asset-Or-Nothing Call Option"
   ]
  },
  {
   "cell_type": "markdown",
   "id": "f8b85081",
   "metadata": {},
   "source": [
    "$$\n",
    "C = e^{-rT} \\left( \\frac{F_0}{\\beta}\\Phi(d_1) - \\frac{(1-\\beta)}{\\beta}F_0\\Phi(d_2) \\right)\n",
    "$$"
   ]
  },
  {
   "cell_type": "code",
   "execution_count": 24,
   "id": "51fecac8",
   "metadata": {},
   "outputs": [],
   "source": [
    "def DisplacedDiffusionDAssetCall(S, K, r, sigma, T, beta):\n",
    "    F = np.exp(r*T)*S\n",
    "    d1 = (np.log(F/(F+beta*(K-F)))+(beta*sigma)**2/2*T) / (beta*sigma*np.sqrt(T))\n",
    "    d2 = d1 - beta*sigma*np.sqrt(T)\n",
    "    return np.exp(-r*T)*(F/beta*norm.cdf(d1) - ((1-beta)/beta*F)*norm.cdf(d2))"
   ]
  },
  {
   "cell_type": "markdown",
   "id": "5eabb6a5",
   "metadata": {},
   "source": [
    ">## Digital Asset-Or-Nothing Put Option"
   ]
  },
  {
   "cell_type": "markdown",
   "id": "2e62ae5b",
   "metadata": {},
   "source": [
    "$$\n",
    "P = e^{-rT} \\left( \\frac{F_0}{\\beta}\\Phi(-d_1) - \\frac{(1-\\beta)}{\\beta}F_0\\Phi(-d_2) \\right)\n",
    "$$"
   ]
  },
  {
   "cell_type": "code",
   "execution_count": 25,
   "id": "00208b62",
   "metadata": {},
   "outputs": [],
   "source": [
    "def DisplacedDiffusionDAssetPut(S, K, r, sigma, T, beta):\n",
    "    F = np.exp(r*T)*S\n",
    "    d1 = (np.log(F/(F+beta*(K-F)))+(beta*sigma)**2/2*T) / (beta*sigma*np.sqrt(T))\n",
    "    d2 = d1 - beta*sigma*np.sqrt(T)\n",
    "    return np.exp(-r*T)*(F/beta*norm.cdf(-d1) - ((1-beta)/beta*F)*norm.cdf(-d2))"
   ]
  }
 ],
 "metadata": {
  "kernelspec": {
   "display_name": "Python 3 (ipykernel)",
   "language": "python",
   "name": "python3"
  },
  "language_info": {
   "codemirror_mode": {
    "name": "ipython",
    "version": 3
   },
   "file_extension": ".py",
   "mimetype": "text/x-python",
   "name": "python",
   "nbconvert_exporter": "python",
   "pygments_lexer": "ipython3",
   "version": "3.11.3"
  }
 },
 "nbformat": 4,
 "nbformat_minor": 5
}
